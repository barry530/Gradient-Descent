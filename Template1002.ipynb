{
 "cells": [
  {
   "cell_type": "code",
   "execution_count": 1,
   "metadata": {},
   "outputs": [],
   "source": [
    "import numpy as np\n",
    "import pandas as pd\n",
    "import matplotlib.pyplot as plt"
   ]
  },
  {
   "cell_type": "markdown",
   "metadata": {},
   "source": [
    "Here we take height_weight_genders.csv as example."
   ]
  },
  {
   "cell_type": "code",
   "execution_count": 2,
   "metadata": {},
   "outputs": [],
   "source": [
    "# Load the data and convert it to metric system\n",
    "def load_data(subsample=False, add_outlier = True):\n",
    "    path = 'height_weight_genders.csv'\n",
    "    data = np.genfromtxt(path, delimiter=',', skip_header=True, usecols=[1,2])\n",
    "    height = data[:,0]\n",
    "    weight = data[:,1]\n",
    "    gender = np.genfromtxt(path, delimiter=',', skip_header=True, usecols=[0],\n",
    "                          converters={0: lambda x : 1 if b'Male' in x else 0}) # col 0\n",
    "    height *= 0.025\n",
    "    weight *= 0.454\n",
    "    if subsample:\n",
    "        height = height[::20]\n",
    "        weight = weight[::20]\n",
    "    if add_outlier:\n",
    "        height = np.concatenate([height, [1.1,1.2]])\n",
    "        weight = np.concatenate([weight, [51.5/0.454, 55.3/0.454]])\n",
    "    return height, weight, gender\n",
    "\n",
    "def standerdize(x):\n",
    "    x_mean = np.mean(x, axis=0)\n",
    "    x_std = np.std(x, axis=0)\n",
    "    x = (x - x_mean) / x_std\n",
    "    return x, x_mean, x_std"
   ]
  },
  {
   "cell_type": "code",
   "execution_count": 3,
   "metadata": {},
   "outputs": [],
   "source": [
    "height, weight, gender = load_data(subsample=False, add_outlier=False)\n",
    "x, x_mean, x_std = standerdize(height)\n",
    "y = weight\n",
    "x_mat = np.c_[np.ones(len(x)),x]"
   ]
  },
  {
   "cell_type": "code",
   "execution_count": 14,
   "metadata": {},
   "outputs": [
    {
     "name": "stdout",
     "output_type": "stream",
     "text": [
      "   Height      Weight  Gender\n",
      " 1.846175  109.819678       1\n",
      " 1.719548   73.688955       1\n",
      " 1.852753   96.584348       1\n",
      " 1.793274   99.899282       1\n",
      " 1.747045   93.682809       1 (10000, 3)\n"
     ]
    }
   ],
   "source": [
    "DF = pd.DataFrame({'Height':height,'Weight':weight,'Gender':gender})\n",
    "print(DF.head().to_string(index=False))"
   ]
  },
  {
   "cell_type": "code",
   "execution_count": 4,
   "metadata": {},
   "outputs": [
    {
     "data": {
      "text/plain": [
       "array([[ 1.        ,  1.94406149],\n",
       "       [ 1.        ,  0.62753668],\n",
       "       [ 1.        ,  2.01244346],\n",
       "       ...,\n",
       "       [ 1.        , -0.64968792],\n",
       "       [ 1.        ,  0.69312469],\n",
       "       [ 1.        , -1.14970831]])"
      ]
     },
     "execution_count": 4,
     "metadata": {},
     "output_type": "execute_result"
    }
   ],
   "source": [
    "x_mat"
   ]
  },
  {
   "cell_type": "markdown",
   "metadata": {},
   "source": [
    "# Cost Function"
   ]
  },
  {
   "cell_type": "markdown",
   "metadata": {},
   "source": [
    "## Mean Square Error"
   ]
  },
  {
   "cell_type": "code",
   "execution_count": 5,
   "metadata": {},
   "outputs": [],
   "source": [
    "def mse(e):\n",
    "    return np.mean(e**2)"
   ]
  },
  {
   "cell_type": "markdown",
   "metadata": {},
   "source": [
    "## Mean Absolute Error"
   ]
  },
  {
   "cell_type": "code",
   "execution_count": 6,
   "metadata": {},
   "outputs": [],
   "source": [
    "def mae(e):\n",
    "    return np.mean(np.abs(e))"
   ]
  },
  {
   "cell_type": "markdown",
   "metadata": {},
   "source": [
    "## Compute Loss"
   ]
  },
  {
   "cell_type": "code",
   "execution_count": 14,
   "metadata": {},
   "outputs": [],
   "source": [
    "def loss(y, x_mat, w):\n",
    "    e = y - x_mat.dot(w)\n",
    "    return mse(e)"
   ]
  },
  {
   "cell_type": "markdown",
   "metadata": {},
   "source": [
    "# Grid Search"
   ]
  },
  {
   "cell_type": "code",
   "execution_count": 49,
   "metadata": {},
   "outputs": [],
   "source": [
    "def generate_w(num_intervals):\n",
    "    w0 = np.linspace(-100,250,num_intervals)\n",
    "    w1 = np.linspace(-150,120,num_intervals)\n",
    "    return w0, w1\n",
    "\n",
    "def grid_search(y, x_mat, w0, w1): #find the lowest loss\n",
    "    losses = np.zeros((len(w0), len(w1)))\n",
    "    for i, row in enumerate(w0):\n",
    "        for j, col in enumerate(w1):\n",
    "            w = np.array([row, col])\n",
    "            losses[i, j] = loss(y, x_mat, w)\n",
    "    return losses\n",
    "\n",
    "def best_param(w0, w1, losses):\n",
    "    min_row, min_col = np.unravel_index(np.argmin(losses), losses.shape)\n",
    "    return losses[min_row, min_col], w0[min_row], w1[min_col]"
   ]
  },
  {
   "cell_type": "code",
   "execution_count": 50,
   "metadata": {},
   "outputs": [
    {
     "name": "stdout",
     "output_type": "stream",
     "text": [
      "Grid Search: loss*=30.998806863732035, w0*=72.89156626506022, w1*=13.734939759036138\n"
     ]
    }
   ],
   "source": [
    "w0_grid, w1_grid = generate_w(250)\n",
    "grid_losses = grid_search(y, x_mat, w0_grid, w1_grid)\n",
    "lowest_loss, w0_best, w1_best = best_param(w0_grid, w1_grid, grid_losses)\n",
    "print('Grid Search: loss*={l}, w0*={w0}, w1*={w1}'.format(l=lowest_loss, w0=w0_best, w1=w1_best))"
   ]
  },
  {
   "cell_type": "code",
   "execution_count": 41,
   "metadata": {},
   "outputs": [
    {
     "data": {
      "text/plain": [
       "array([[75635.14279993, 75288.17108514, 74943.21546685, ...,\n",
       "        51184.15745377, 51335.16157807, 51488.18179888],\n",
       "       [75122.1854438 , 74775.213729  , 74430.25811072, ...,\n",
       "        50671.20009763, 50822.20422193, 50975.22444275],\n",
       "       [74612.13126664, 74265.15955184, 73920.20393356, ...,\n",
       "        50161.14592048, 50312.15004478, 50465.17026559],\n",
       "       ...,\n",
       "       [37136.15645563, 36789.18474083, 36444.22912254, ...,\n",
       "        12685.17110946, 12836.17523376, 12989.19545457],\n",
       "       [37340.28430779, 36993.31259299, 36648.35697471, ...,\n",
       "        12889.29896163, 13040.30308593, 13193.32330674],\n",
       "       [37547.31533894, 37200.34362414, 36855.38800586, ...,\n",
       "        13096.32999277, 13247.33411707, 13400.35433789]])"
      ]
     },
     "execution_count": 41,
     "metadata": {},
     "output_type": "execute_result"
    }
   ],
   "source": [
    "grid_losses.T"
   ]
  },
  {
   "cell_type": "code",
   "execution_count": 51,
   "metadata": {},
   "outputs": [
    {
     "data": {
      "image/png": "[encoded data removed]",
      "text/plain": [
       "<Figure size 432x288 with 1 Axes>"
      ]
     },
     "metadata": {
      "needs_background": "light"
     },
     "output_type": "display_data"
    }
   ],
   "source": [
    "w0, w1 = np.meshgrid(w0_grid, w1_grid)\n",
    "fig = plt.figure()\n",
    "ax1 = fig.add_subplot(1,2,1)\n",
    "cp = ax1.contourf(w0, w1, grid_losses.T, cmap = plt.cm.jet)\n"
   ]
  },
  {
   "cell_type": "code",
   "execution_count": 32,
   "metadata": {},
   "outputs": [
    {
     "data": {
      "text/plain": [
       "array([[-100.        ,  -98.99598394,  -97.99196787, ...,  147.99196787,\n",
       "         148.99598394,  150.        ],\n",
       "       [-100.        ,  -98.99598394,  -97.99196787, ...,  147.99196787,\n",
       "         148.99598394,  150.        ],\n",
       "       [-100.        ,  -98.99598394,  -97.99196787, ...,  147.99196787,\n",
       "         148.99598394,  150.        ],\n",
       "       ...,\n",
       "       [-100.        ,  -98.99598394,  -97.99196787, ...,  147.99196787,\n",
       "         148.99598394,  150.        ],\n",
       "       [-100.        ,  -98.99598394,  -97.99196787, ...,  147.99196787,\n",
       "         148.99598394,  150.        ],\n",
       "       [-100.        ,  -98.99598394,  -97.99196787, ...,  147.99196787,\n",
       "         148.99598394,  150.        ]])"
      ]
     },
     "execution_count": 32,
     "metadata": {},
     "output_type": "execute_result"
    }
   ],
   "source": [
    "w0"
   ]
  },
  {
   "cell_type": "markdown",
   "metadata": {},
   "source": [
    "# Gradient Descent\n",
    "## Gradient\n",
    "Suppose $y \\approx f(x) = w_0+w_1x$  \n",
    "$error = y-\\mathbf{X}w$  \n",
    "Here we take MSE as examples:  \n",
    "$L = \\frac{\\sum (y-\\mathbf{X}w)^2}{n}$  \n",
    "then the gradient of the cost is:  \n",
    "$\\Delta L = \\frac{\\partial L}{\\partial w} = -\\frac{2}{n}\\mathbf{X}^Te$\n",
    "\n",
    "## Gradient Descent\n",
    "$w^{k+1} = w^k - \\tau \\Delta L(w^k)$"
   ]
  },
  {
   "cell_type": "code",
   "execution_count": 30,
   "metadata": {},
   "outputs": [],
   "source": [
    "def grad(y, x_mat, w):\n",
    "    err = y - x_mat.dot(w)\n",
    "    grad = -2*x_mat.T.dot(err) / len(err)\n",
    "    return grad, err\n",
    "\n",
    "def gradient_descent(y, x_mat, tau, w_init, max_iter):\n",
    "    w_ = [w_init]\n",
    "    losses = []\n",
    "    w = w_init\n",
    "    for i in range(max_iter):\n",
    "        gradient, err = grad(y, x_mat, w)\n",
    "        loss = mse(err)\n",
    "        w = w - tau * gradient\n",
    "        w_.append(w)\n",
    "        losses.append(loss)\n",
    "        #print('Gradient Descent Iteration ({a}/{b}) : loss = {l}, w0 = {w0}, w1 = {w1}'.format(\n",
    "         #       a = i+1, b = max_iter, l = loss, w0=w[0], w1=w[1]))\n",
    "    return losses, w_"
   ]
  },
  {
   "cell_type": "code",
   "execution_count": 46,
   "metadata": {},
   "outputs": [
    {
     "data": {
      "text/plain": [
       "[2041.6862728588699,\n",
       " 1397.4853606363195,\n",
       " 965.299286561489,\n",
       " 675.3035059403763,\n",
       " 480.6703301192994,\n",
       " 349.9948450092105,\n",
       " 262.215375802553,\n",
       " 203.20691168891716,\n",
       " 163.49649622776266,\n",
       " 136.73106065870883,\n",
       " 118.64988083458232,\n",
       " 106.39545848946076,\n",
       " 98.05136578277487,\n",
       " 92.3323020911869,\n",
       " 88.37623149304034,\n",
       " 85.60498036669965,\n",
       " 83.63074756149348,\n",
       " 82.19340569962459,\n",
       " 81.11845245909765,\n",
       " 80.28881070554817]"
      ]
     },
     "execution_count": 46,
     "metadata": {},
     "output_type": "execute_result"
    }
   ],
   "source": [
    "w = np.array([10,20]).reshape(2,-1)\n",
    "y = np.array([20,26,17,14,16,19,14,28,25,22]).reshape(10,1)\n",
    "x = np.random.randn(10,2)+2\n",
    "gradient_descent(y, x, 0.01, w, 20)[0]"
   ]
  },
  {
   "cell_type": "markdown",
   "metadata": {},
   "source": [
    "# Stochastic Gradient Descent\n",
    "ref : https://machinelearningmastery.com/difference-between-a-batch-and-an-epoch/  \n",
    "ref : https://towardsdatascience.com/batch-mini-batch-stochastic-gradient-descent-7a62ecba642a\n"
   ]
  },
  {
   "cell_type": "code",
   "execution_count": 79,
   "metadata": {},
   "outputs": [],
   "source": [
    "def butches_generator(y, x_mat, batch_size, num_batches, shuffle=True):\n",
    "    n = len(y)\n",
    "    if shuffle:\n",
    "        shuffle_indices = np.random.permutation(n)\n",
    "        shuffled_y = y[shuffle_indices]\n",
    "        shuffled_xmat = x_mat[shuffle_indices]\n",
    "    else:\n",
    "        shuffled_y = y\n",
    "        shuffled_xmat = x_mat\n",
    "    \n",
    "    for num_batch in range(num_batches):\n",
    "        start_index = num_batch * batch_size\n",
    "        end_index = min((num_batch + 1) * batch_size, n)\n",
    "        if start_index != end_index:\n",
    "            yield shuffled_y[start_index:end_index], shuffled_xmat[start_index:end_index]\n",
    "\n",
    "def grad_stoch(y, x_mat, w):\n",
    "    err = y - x_mat.reshape(len(y),-1).dot(w)\n",
    "    grad = -2*x_mat.reshape(len(y),-1).T.dot(err) / len(err)\n",
    "    return grad, err"
   ]
  },
  {
   "cell_type": "code",
   "execution_count": 94,
   "metadata": {},
   "outputs": [
    {
     "data": {
      "text/plain": [
       "(array([45, 36]), array([[ 1,  2],\n",
       "        [11,  2]]))"
      ]
     },
     "execution_count": 94,
     "metadata": {},
     "output_type": "execute_result"
    }
   ],
   "source": [
    "x = np.array([[1,2,3,4,5,6,7,8,9,10],[6,7,11,2,6,8,4,2,6,9]]).reshape(10,2)\n",
    "y = np.array([45,73,45,34,21,16,36,41,34,12])\n",
    "a = butches_generator(y, x, 2, 5)\n",
    "next(a)"
   ]
  },
  {
   "cell_type": "code",
   "execution_count": 91,
   "metadata": {},
   "outputs": [],
   "source": [
    "def MiniBatch_Gradient_Descent(y, x_mat, w_init, batch_size, num_batches, epochs, tau):\n",
    "    w = w_init\n",
    "    losses = []\n",
    "    w_ = [w_init]\n",
    "    for iter in range(epochs):\n",
    "        butches = butches_generator(y, x_mat, batch_size, num_batches)\n",
    "        batch_y, batch_x = next(butches)\n",
    "        n = len(batch_y)\n",
    "        gradients = []\n",
    "        for i in range(n):\n",
    "            gradient, err = grad_stoch(batch_y[i], batch_x[i], w)\n",
    "            gradients.append(gradient)\n",
    "            gradient_update = np.mean(gradients)\n",
    "        w = w - tau * gradient_update\n",
    "        error = y - x_mat.dot(w)\n",
    "        loss = mse(error)\n",
    "        w_.append(w)\n",
    "        losses.append(loss)\n",
    "        #print('MiniBatch_Gradient_Descent epoch ({a}/{b}) : loss = {l}, w = {w}'.format(\n",
    "         #       a = iter+1, b = epochs, l = loss, w = w))\n",
    "    return losses, w_\n",
    "            "
   ]
  },
  {
   "cell_type": "code",
   "execution_count": 93,
   "metadata": {},
   "outputs": [
    {
     "data": {
      "text/plain": [
       "([1111.8534243759527,\n",
       "  783.5267263168588,\n",
       "  458.6630214245767,\n",
       "  357.92484591468025,\n",
       "  304.4403063958374,\n",
       "  250.9456094723912,\n",
       "  195.04741000823861,\n",
       "  157.8245486937935,\n",
       "  140.64341590054576,\n",
       "  125.67555868502488],\n",
       " [array([[10],\n",
       "         [20]]), array([[ 8.46838907],\n",
       "         [18.46838907]]), array([[ 7.04284321],\n",
       "         [17.04284321]]), array([[ 5.21976619],\n",
       "         [15.21976619]]), array([[ 4.48532026],\n",
       "         [14.48532026]]), array([[ 4.03249695],\n",
       "         [14.03249695]]), array([[ 3.51045849],\n",
       "         [13.51045849]]), array([[ 2.83969597],\n",
       "         [12.83969597]]), array([[ 2.24989306],\n",
       "         [12.24989306]]), array([[ 1.89114604],\n",
       "         [11.89114604]]), array([[ 1.46762209],\n",
       "         [11.46762209]])])"
      ]
     },
     "execution_count": 93,
     "metadata": {},
     "output_type": "execute_result"
    }
   ],
   "source": [
    "w = np.array([10,20]).reshape(2,-1)\n",
    "y = np.array([20,26,17,14,16,19,14,28,25,22]).reshape(10,1)\n",
    "x = np.random.randn(10,2)+2\n",
    "MiniBatch_Gradient_Descent(y, x, w, 4, 5, 10, 0.01)"
   ]
  }
 ],
 "metadata": {
  "kernelspec": {
   "display_name": "Python 3",
   "language": "python",
   "name": "python3"
  },
  "language_info": {
   "codemirror_mode": {
    "name": "ipython",
    "version": 3
   },
   "file_extension": ".py",
   "mimetype": "text/x-python",
   "name": "python",
   "nbconvert_exporter": "python",
   "pygments_lexer": "ipython3",
   "version": "3.7.4"
  }
 },
 "nbformat": 4,
 "nbformat_minor": 2
}
